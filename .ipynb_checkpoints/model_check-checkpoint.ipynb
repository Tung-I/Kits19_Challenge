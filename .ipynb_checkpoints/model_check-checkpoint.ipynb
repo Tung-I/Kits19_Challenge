{
 "cells": [
  {
   "cell_type": "code",
   "execution_count": 1,
   "metadata": {},
   "outputs": [],
   "source": [
    "import torch\n",
    "import torch.nn as nn\n",
    "import torch.nn.functional as F\n",
    "\n",
    "from src.model.nets.base_net import BaseNet\n"
   ]
  },
  {
   "cell_type": "code",
   "execution_count": 49,
   "metadata": {},
   "outputs": [],
   "source": [
    "class Highresnet3D(BaseNet):\n",
    "    def __init__(self, in_channels, out_channels, num_features=[16, 32, 64], dilation_rate=[1, 2, 4]):\n",
    "        super().__init__()\n",
    "        self.in_channels = in_channels\n",
    "        self.out_channels = out_channels\n",
    "        self.num_features = num_features\n",
    "        self.num_dilation = num_dilations\n",
    "\n",
    "        self.in_block = _InBlock(in_channels, num_features[0])\n",
    "        self.res_block1 = _ResidualBlock(num_features[0], num_features[1], dilation_rate[0])\n",
    "        self.res_block2 = _ResidualBlock(num_features[1], num_features[2], dilation_rate[1])\n",
    "        self.res_block3 = _ResidualBlock(num_features[2], num_features[2], dilation_rate[2])\n",
    "        self.out_block = _OutBlock(num_features[2], out_channels)\n",
    "\n",
    "    def forward(self, input):\n",
    "        features = self.in_block(input)\n",
    "        features = self.res_block1(features)\n",
    "        features = self.res_block2(features)\n",
    "        features = self.res_block3(features)\n",
    "        features = self.out_block(features)\n",
    "        output = torch.softmax(features, dim=1)\n",
    "        return output\n",
    "\n",
    "class _InBlock(nn.Sequential):\n",
    "\n",
    "    def __init__(self, in_channels, out_channels):\n",
    "        super().__init__()\n",
    "        self.add_module('conv1', nn.Conv3d(in_channels, out_channels, kernel_size=3, padding=1))\n",
    "        self.add_module('norm1', nn.BatchNorm3d(out_channels))\n",
    "        self.add_module('active1', nn.ReLU(inplace=True))\n",
    "\n",
    "\n",
    "class _ResidualBlock(nn.Module):\n",
    "\n",
    "    def __init__(self, in_channels, out_channels, dilation_rate):\n",
    "        super().__init__()\n",
    "        self.in_channels = in_channels\n",
    "        self.out_channels = out_channels\n",
    "\n",
    "        self.norm_layer1 = nn.BatchNorm3d(in_channels)\n",
    "        self.active_layer1 = nn.ReLU(inplace=True)\n",
    "        self.conv_layer1 = nn.Conv3d(in_channels, out_channels, kernel_size=3, padding=dilation_rate, dilation=dilation_rate)\n",
    "\n",
    "        self.norm_layer2 = nn.BatchNorm3d(out_channels)\n",
    "        self.active_layer2 = nn.ReLU(inplace=True)\n",
    "        self.conv_layer2 = nn.Conv3d(out_channels, out_channels, kernel_size=3, padding=dilation_rate, dilation=dilation_rate)\n",
    "\n",
    "        self.projector = nn.Conv3d(in_channels, out_channels, kernel_size=1)\n",
    "\n",
    "    def forward(self, input):\n",
    "        output = self.norm_layer1(input)\n",
    "        output = self.active_layer1(output)\n",
    "        output = self.conv_layer1(output)\n",
    "\n",
    "        output = self.norm_layer2(output)\n",
    "        output = self.active_layer2(output)\n",
    "        output = self.conv_layer2(output)\n",
    "\n",
    "        X = self.projector(input)\n",
    "        output = output+X\n",
    "        return output\n",
    "\n",
    "class _OutBlock(nn.Sequential):\n",
    "\n",
    "    def __init__(self, in_channels, out_channels):\n",
    "        super().__init__()\n",
    "        self.add_module('conv1', nn.Conv3d(in_channels, out_channels, kernel_size=1))"
   ]
  },
  {
   "cell_type": "code",
   "execution_count": 50,
   "metadata": {},
   "outputs": [],
   "source": [
    "img = torch.rand(2, 1, 10, 10, 10)\n",
    "num_features=[16, 32, 64]\n",
    "num_dilations=[1, 2, 4]"
   ]
  },
  {
   "cell_type": "code",
   "execution_count": 51,
   "metadata": {},
   "outputs": [],
   "source": [
    "# in_block = _InBlock(1, num_features[0])\n",
    "# res_block1 = _ResidualBlock(num_features[0], num_features[1], num_dilations[0])\n",
    "# res_block2 = _ResidualBlock(num_features[1], num_features[2], num_dilations[1])\n",
    "# res_block3 = _ResidualBlock(num_features[2], num_features[2], num_dilations[2])\n",
    "# out_block = _OutBlock(num_features[2], 3)"
   ]
  },
  {
   "cell_type": "code",
   "execution_count": 52,
   "metadata": {},
   "outputs": [],
   "source": [
    "# features = in_block(img)\n",
    "# features = res_block1(features)\n",
    "# features = res_block2(features)\n",
    "# features = res_block3(features)\n",
    "# features = out_block(features)\n",
    "# output = torch.softmax(features, dim=1)\n",
    "\n",
    "net = Highresnet3D(1, 3)\n",
    "output = net(img)"
   ]
  },
  {
   "cell_type": "code",
   "execution_count": 53,
   "metadata": {},
   "outputs": [
    {
     "data": {
      "text/plain": [
       "torch.Size([2, 3, 10, 10, 10])"
      ]
     },
     "execution_count": 53,
     "metadata": {},
     "output_type": "execute_result"
    }
   ],
   "source": [
    "output.size()"
   ]
  },
  {
   "cell_type": "code",
   "execution_count": null,
   "metadata": {},
   "outputs": [],
   "source": []
  }
 ],
 "metadata": {
  "kernelspec": {
   "display_name": "pytorch",
   "language": "python",
   "name": "pytorch"
  },
  "language_info": {
   "codemirror_mode": {
    "name": "ipython",
    "version": 3
   },
   "file_extension": ".py",
   "mimetype": "text/x-python",
   "name": "python",
   "nbconvert_exporter": "python",
   "pygments_lexer": "ipython3",
   "version": "3.7.3"
  }
 },
 "nbformat": 4,
 "nbformat_minor": 2
}
